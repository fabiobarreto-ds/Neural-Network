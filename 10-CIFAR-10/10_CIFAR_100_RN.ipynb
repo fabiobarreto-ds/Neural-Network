{
  "nbformat": 4,
  "nbformat_minor": 0,
  "metadata": {
    "colab": {
      "name": "CIFAR_10_RN.ipynb",
      "provenance": []
    },
    "kernelspec": {
      "name": "python3",
      "display_name": "Python 3"
    },
    "language_info": {
      "name": "python"
    }
  },
  "cells": [
    {
      "cell_type": "code",
      "source": [
        "import numpy as np\n",
        "import pandas as pd\n",
        "import matplotlib.pyplot as plt\n",
        "from keras.datasets import mnist\n",
        "from keras.utils import np_utils \n",
        "from keras.datasets import cifar10\n",
        "from keras.models import Sequential\n",
        "from sklearn.model_selection import StratifiedKFold\n",
        "from keras.layers import Dense, Flatten, Conv2D, MaxPooling2D, Dropout, BatchNormalization"
      ],
      "metadata": {
        "id": "fGm-0MdMFnyt"
      },
      "execution_count": 4,
      "outputs": []
    },
    {
      "cell_type": "code",
      "execution_count": null,
      "metadata": {
        "colab": {
          "base_uri": "https://localhost:8080/"
        },
        "id": "FOMfGqIcEVsf",
        "outputId": "39afbca2-a50f-4db3-93fa-9f4d38440665"
      },
      "outputs": [
        {
          "output_type": "stream",
          "name": "stdout",
          "text": [
            "Downloading data from https://www.cs.toronto.edu/~kriz/cifar-10-python.tar.gz\n",
            "170500096/170498071 [==============================] - 4s 0us/step\n",
            "170508288/170498071 [==============================] - 4s 0us/step\n",
            "Epoch 1/10\n",
            "265/313 [========================>.....] - ETA: 7s - loss: 1.6434 - accuracy: 0.4137"
          ]
        }
      ],
      "source": [
        "seed = 5\n",
        "np.random.seed(seed)\n",
        "\n",
        "(X_train, y_train), (X_test, y_test) = cifar10.load_data()\n",
        "X_train = X_train.reshape(X_train.shape[0], 32, 32, 3)\n",
        "X_train = X_train.astype('float32')\n",
        "X_train /= 255\n",
        "class_train = np_utils.to_categorical(y_train, 10)\n",
        "class_test = np_utils.to_categorical(y_test, 10)\n",
        "\n",
        "\n",
        "kfold = StratifiedKFold(n_splits = 5, shuffle = True, random_state = seed)\n",
        "resultados = []\n",
        "\n",
        "a = np.zeros(5)\n",
        "b = np.zeros(shape = (class_train.shape[0], 1))\n",
        "\n",
        "for indice_treinamento, indice_teste in kfold.split(X_train, np.zeros(shape = (class_train.shape[0], 1))):\n",
        "    #print('Índices treinamento: ', indice_treinamento, 'Índice teste', indice_teste)\n",
        "    model = Sequential()\n",
        "    #1ª camada de convolução\n",
        "    model.add(Conv2D(32, (3,3), input_shape=(32, 32, 3), activation=\"relu\")) #Conv2D(qdte de mapas de características, aumenta o valor de acoro com a dimensão da imagem)\n",
        "    model.add(BatchNormalization()) #Normalização para as camadas de convuluções\n",
        "    #MaxPooling\n",
        "    model.add(MaxPooling2D(pool_size=(2, 2)))\n",
        "    #========================================================\n",
        "    #2ª camada de convolução\n",
        "    model.add(Conv2D(32, (3,3), activation=\"relu\"))\n",
        "    model.add(BatchNormalization()) #Normalização para as camadas de convuluções\n",
        "    #MaxPooling\n",
        "    model.add(MaxPooling2D(pool_size=(2, 2)))\n",
        "    #Flatten\n",
        "    model.add(Flatten())\n",
        "    #========================================================\n",
        "    #1ª camada oculta\n",
        "    model.add(Dense(units=128, activation=\"relu\", )) # units=128/256/512\n",
        "    model.add(Dropout(0.2))\n",
        "    #========================================================\n",
        "    #2ª camada oculta\n",
        "    model.add(Dense(units=128, activation=\"relu\", )) # units=128/256/512\n",
        "    model.add(Dropout(0.2))\n",
        "    model.add(Dense(units = 10, activation= \"softmax\"))\n",
        "\n",
        "\n",
        "    model.compile(loss= \"categorical_crossentropy\", optimizer=\"adam\", metrics=[\"accuracy\"])\n",
        "    model.fit(X_train[indice_treinamento], class_train[indice_treinamento], batch_size = 128, epochs = 10)\n",
        "    precisao = model.evaluate(X_train[indice_teste], class_train[indice_teste])\n",
        "    resultados.append(precisao[1])\n",
        "#===========================================================================================\n",
        "\n",
        "#media = resultados.mean()\n",
        "media = sum(resultados) / len(resultados)\n",
        "media"
      ]
    },
    {
      "cell_type": "code",
      "source": [
        "y_pred = model.predict(X_test)\n",
        "y_pred"
      ],
      "metadata": {
        "colab": {
          "base_uri": "https://localhost:8080/"
        },
        "id": "5zzpfomLIZMK",
        "outputId": "7661ddfe-fa2d-40cb-c711-aaa6993f171d"
      },
      "execution_count": 78,
      "outputs": [
        {
          "output_type": "execute_result",
          "data": {
            "text/plain": [
              "array([[0.        , 0.        , 0.        , ..., 1.        , 0.        ,\n",
              "        0.        ],\n",
              "       [0.        , 0.        , 1.        , ..., 0.        , 0.        ,\n",
              "        0.        ],\n",
              "       [0.        , 0.        , 0.        , ..., 0.        , 0.89843285,\n",
              "        0.        ],\n",
              "       ...,\n",
              "       [0.        , 0.        , 0.        , ..., 0.        , 0.        ,\n",
              "        0.        ],\n",
              "       [0.        , 0.        , 0.        , ..., 0.        , 1.        ,\n",
              "        0.        ],\n",
              "       [0.        , 0.        , 0.        , ..., 0.        , 0.        ,\n",
              "        0.        ]], dtype=float32)"
            ]
          },
          "metadata": {},
          "execution_count": 78
        }
      ]
    },
    {
      "cell_type": "markdown",
      "source": [
        "**Tabela comparativa entre o valor real e o preditivo...**"
      ],
      "metadata": {
        "id": "BcAZJOSffP7H"
      }
    },
    {
      "cell_type": "code",
      "source": [
        "lista_resultados = []\n",
        "for num in y_pred:\n",
        "  y_pred = np.argmax(num)\n",
        "  lista_resultados.append(y_pred)"
      ],
      "metadata": {
        "id": "qLHL69_XXQ2o"
      },
      "execution_count": 79,
      "outputs": []
    },
    {
      "cell_type": "code",
      "source": [
        "import pandas as pd\n",
        "tabela = pd.DataFrame()\n",
        "tabela[\"Valores reais\"] = y_test\n",
        "tabela[\"Valores preditos\"] = lista_resultados"
      ],
      "metadata": {
        "id": "KehvO8ToYd4g"
      },
      "execution_count": 80,
      "outputs": []
    },
    {
      "cell_type": "code",
      "source": [
        "tabela"
      ],
      "metadata": {
        "colab": {
          "base_uri": "https://localhost:8080/",
          "height": 424
        },
        "id": "jkmL6ARhYo7_",
        "outputId": "18ad2a35-515e-4c52-bf20-fe7487cb751a"
      },
      "execution_count": 81,
      "outputs": [
        {
          "output_type": "execute_result",
          "data": {
            "text/plain": [
              "      Valores reais  Valores preditos\n",
              "0                 7                 7\n",
              "1                 2                 2\n",
              "2                 1                 8\n",
              "3                 0                 0\n",
              "4                 4                 4\n",
              "...             ...               ...\n",
              "9995              2                 2\n",
              "9996              3                 3\n",
              "9997              4                 4\n",
              "9998              5                 8\n",
              "9999              6                 6\n",
              "\n",
              "[10000 rows x 2 columns]"
            ],
            "text/html": [
              "\n",
              "  <div id=\"df-7ad8438c-c792-4a8d-a0a4-25a5f8505743\">\n",
              "    <div class=\"colab-df-container\">\n",
              "      <div>\n",
              "<style scoped>\n",
              "    .dataframe tbody tr th:only-of-type {\n",
              "        vertical-align: middle;\n",
              "    }\n",
              "\n",
              "    .dataframe tbody tr th {\n",
              "        vertical-align: top;\n",
              "    }\n",
              "\n",
              "    .dataframe thead th {\n",
              "        text-align: right;\n",
              "    }\n",
              "</style>\n",
              "<table border=\"1\" class=\"dataframe\">\n",
              "  <thead>\n",
              "    <tr style=\"text-align: right;\">\n",
              "      <th></th>\n",
              "      <th>Valores reais</th>\n",
              "      <th>Valores preditos</th>\n",
              "    </tr>\n",
              "  </thead>\n",
              "  <tbody>\n",
              "    <tr>\n",
              "      <th>0</th>\n",
              "      <td>7</td>\n",
              "      <td>7</td>\n",
              "    </tr>\n",
              "    <tr>\n",
              "      <th>1</th>\n",
              "      <td>2</td>\n",
              "      <td>2</td>\n",
              "    </tr>\n",
              "    <tr>\n",
              "      <th>2</th>\n",
              "      <td>1</td>\n",
              "      <td>8</td>\n",
              "    </tr>\n",
              "    <tr>\n",
              "      <th>3</th>\n",
              "      <td>0</td>\n",
              "      <td>0</td>\n",
              "    </tr>\n",
              "    <tr>\n",
              "      <th>4</th>\n",
              "      <td>4</td>\n",
              "      <td>4</td>\n",
              "    </tr>\n",
              "    <tr>\n",
              "      <th>...</th>\n",
              "      <td>...</td>\n",
              "      <td>...</td>\n",
              "    </tr>\n",
              "    <tr>\n",
              "      <th>9995</th>\n",
              "      <td>2</td>\n",
              "      <td>2</td>\n",
              "    </tr>\n",
              "    <tr>\n",
              "      <th>9996</th>\n",
              "      <td>3</td>\n",
              "      <td>3</td>\n",
              "    </tr>\n",
              "    <tr>\n",
              "      <th>9997</th>\n",
              "      <td>4</td>\n",
              "      <td>4</td>\n",
              "    </tr>\n",
              "    <tr>\n",
              "      <th>9998</th>\n",
              "      <td>5</td>\n",
              "      <td>8</td>\n",
              "    </tr>\n",
              "    <tr>\n",
              "      <th>9999</th>\n",
              "      <td>6</td>\n",
              "      <td>6</td>\n",
              "    </tr>\n",
              "  </tbody>\n",
              "</table>\n",
              "<p>10000 rows × 2 columns</p>\n",
              "</div>\n",
              "      <button class=\"colab-df-convert\" onclick=\"convertToInteractive('df-7ad8438c-c792-4a8d-a0a4-25a5f8505743')\"\n",
              "              title=\"Convert this dataframe to an interactive table.\"\n",
              "              style=\"display:none;\">\n",
              "        \n",
              "  <svg xmlns=\"http://www.w3.org/2000/svg\" height=\"24px\"viewBox=\"0 0 24 24\"\n",
              "       width=\"24px\">\n",
              "    <path d=\"M0 0h24v24H0V0z\" fill=\"none\"/>\n",
              "    <path d=\"M18.56 5.44l.94 2.06.94-2.06 2.06-.94-2.06-.94-.94-2.06-.94 2.06-2.06.94zm-11 1L8.5 8.5l.94-2.06 2.06-.94-2.06-.94L8.5 2.5l-.94 2.06-2.06.94zm10 10l.94 2.06.94-2.06 2.06-.94-2.06-.94-.94-2.06-.94 2.06-2.06.94z\"/><path d=\"M17.41 7.96l-1.37-1.37c-.4-.4-.92-.59-1.43-.59-.52 0-1.04.2-1.43.59L10.3 9.45l-7.72 7.72c-.78.78-.78 2.05 0 2.83L4 21.41c.39.39.9.59 1.41.59.51 0 1.02-.2 1.41-.59l7.78-7.78 2.81-2.81c.8-.78.8-2.07 0-2.86zM5.41 20L4 18.59l7.72-7.72 1.47 1.35L5.41 20z\"/>\n",
              "  </svg>\n",
              "      </button>\n",
              "      \n",
              "  <style>\n",
              "    .colab-df-container {\n",
              "      display:flex;\n",
              "      flex-wrap:wrap;\n",
              "      gap: 12px;\n",
              "    }\n",
              "\n",
              "    .colab-df-convert {\n",
              "      background-color: #E8F0FE;\n",
              "      border: none;\n",
              "      border-radius: 50%;\n",
              "      cursor: pointer;\n",
              "      display: none;\n",
              "      fill: #1967D2;\n",
              "      height: 32px;\n",
              "      padding: 0 0 0 0;\n",
              "      width: 32px;\n",
              "    }\n",
              "\n",
              "    .colab-df-convert:hover {\n",
              "      background-color: #E2EBFA;\n",
              "      box-shadow: 0px 1px 2px rgba(60, 64, 67, 0.3), 0px 1px 3px 1px rgba(60, 64, 67, 0.15);\n",
              "      fill: #174EA6;\n",
              "    }\n",
              "\n",
              "    [theme=dark] .colab-df-convert {\n",
              "      background-color: #3B4455;\n",
              "      fill: #D2E3FC;\n",
              "    }\n",
              "\n",
              "    [theme=dark] .colab-df-convert:hover {\n",
              "      background-color: #434B5C;\n",
              "      box-shadow: 0px 1px 3px 1px rgba(0, 0, 0, 0.15);\n",
              "      filter: drop-shadow(0px 1px 2px rgba(0, 0, 0, 0.3));\n",
              "      fill: #FFFFFF;\n",
              "    }\n",
              "  </style>\n",
              "\n",
              "      <script>\n",
              "        const buttonEl =\n",
              "          document.querySelector('#df-7ad8438c-c792-4a8d-a0a4-25a5f8505743 button.colab-df-convert');\n",
              "        buttonEl.style.display =\n",
              "          google.colab.kernel.accessAllowed ? 'block' : 'none';\n",
              "\n",
              "        async function convertToInteractive(key) {\n",
              "          const element = document.querySelector('#df-7ad8438c-c792-4a8d-a0a4-25a5f8505743');\n",
              "          const dataTable =\n",
              "            await google.colab.kernel.invokeFunction('convertToInteractive',\n",
              "                                                     [key], {});\n",
              "          if (!dataTable) return;\n",
              "\n",
              "          const docLinkHtml = 'Like what you see? Visit the ' +\n",
              "            '<a target=\"_blank\" href=https://colab.research.google.com/notebooks/data_table.ipynb>data table notebook</a>'\n",
              "            + ' to learn more about interactive tables.';\n",
              "          element.innerHTML = '';\n",
              "          dataTable['output_type'] = 'display_data';\n",
              "          await google.colab.output.renderOutput(dataTable, element);\n",
              "          const docLink = document.createElement('div');\n",
              "          docLink.innerHTML = docLinkHtml;\n",
              "          element.appendChild(docLink);\n",
              "        }\n",
              "      </script>\n",
              "    </div>\n",
              "  </div>\n",
              "  "
            ]
          },
          "metadata": {},
          "execution_count": 81
        }
      ]
    },
    {
      "cell_type": "code",
      "source": [
        "tabela.to_csv(\"09-MNIST_resultado.csv\")"
      ],
      "metadata": {
        "id": "0FOysUHyg5Vp"
      },
      "execution_count": 82,
      "outputs": []
    }
  ]
}