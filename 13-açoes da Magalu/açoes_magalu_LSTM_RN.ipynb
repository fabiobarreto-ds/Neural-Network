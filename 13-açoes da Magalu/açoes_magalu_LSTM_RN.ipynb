{
  "nbformat": 4,
  "nbformat_minor": 0,
  "metadata": {
    "colab": {
      "provenance": []
    },
    "kernelspec": {
      "name": "python3",
      "display_name": "Python 3"
    },
    "language_info": {
      "name": "python"
    }
  },
  "cells": [
    {
      "cell_type": "code",
      "execution_count": 1,
      "metadata": {
        "id": "7KauScw3sec6"
      },
      "outputs": [],
      "source": [
        "import numpy as np\n",
        "import pandas as pd\n",
        "import matplotlib.pyplot as plt\n",
        "from keras.models import Sequential\n",
        "from keras.layers import Dense, LSTM, Dropout\n",
        "from sklearn.preprocessing import MinMaxScaler\n",
        "import math"
      ]
    },
    {
      "cell_type": "code",
      "source": [
        "df = df = pd.read_excel(\"açoes_magalu.xlsx\")\n",
        "df"
      ],
      "metadata": {
        "colab": {
          "base_uri": "https://localhost:8080/",
          "height": 424
        },
        "id": "JHFMSZNbslwZ",
        "outputId": "b3739096-9558-4fb1-b878-53b9ab80a581"
      },
      "execution_count": 38,
      "outputs": [
        {
          "output_type": "execute_result",
          "data": {
            "text/plain": [
              "          Data      Maior      Menor   Abertura  Fechamento     Volume  \\\n",
              "0   2021-01-04  25.580000  24.870001  25.260000   25.200001   25706100   \n",
              "1   2021-01-05  25.180000  24.340000  25.100000   24.760000   25431900   \n",
              "2   2021-01-06  24.660000  23.420000  24.650000   23.459999   51799000   \n",
              "3   2021-01-07  23.850000  22.950001  23.639999   23.160000   42146600   \n",
              "4   2021-01-08  24.299999  23.020000  23.190001   23.840000   43988100   \n",
              "..         ...        ...        ...        ...         ...        ...   \n",
              "242 2021-12-23   6.340000   5.990000   6.220000    6.200000   97106100   \n",
              "243 2021-12-27   6.780000   6.230000   6.230000    6.780000  124279800   \n",
              "244 2021-12-28   6.960000   6.640000   6.790000    6.830000  165573900   \n",
              "245 2021-12-29   6.900000   6.700000   6.840000    6.760000   79247400   \n",
              "246 2021-12-30   7.410000   6.770000   6.800000    7.220000  180329400   \n",
              "\n",
              "     Adj Close  \n",
              "0    25.181740  \n",
              "1    24.742058  \n",
              "2    23.442999  \n",
              "3    23.143217  \n",
              "4    23.822723  \n",
              "..         ...  \n",
              "242   6.200000  \n",
              "243   6.780000  \n",
              "244   6.830000  \n",
              "245   6.760000  \n",
              "246   7.220000  \n",
              "\n",
              "[247 rows x 7 columns]"
            ],
            "text/html": [
              "\n",
              "  <div id=\"df-eae25609-74e6-4910-9117-5ee524355e3e\">\n",
              "    <div class=\"colab-df-container\">\n",
              "      <div>\n",
              "<style scoped>\n",
              "    .dataframe tbody tr th:only-of-type {\n",
              "        vertical-align: middle;\n",
              "    }\n",
              "\n",
              "    .dataframe tbody tr th {\n",
              "        vertical-align: top;\n",
              "    }\n",
              "\n",
              "    .dataframe thead th {\n",
              "        text-align: right;\n",
              "    }\n",
              "</style>\n",
              "<table border=\"1\" class=\"dataframe\">\n",
              "  <thead>\n",
              "    <tr style=\"text-align: right;\">\n",
              "      <th></th>\n",
              "      <th>Data</th>\n",
              "      <th>Maior</th>\n",
              "      <th>Menor</th>\n",
              "      <th>Abertura</th>\n",
              "      <th>Fechamento</th>\n",
              "      <th>Volume</th>\n",
              "      <th>Adj Close</th>\n",
              "    </tr>\n",
              "  </thead>\n",
              "  <tbody>\n",
              "    <tr>\n",
              "      <th>0</th>\n",
              "      <td>2021-01-04</td>\n",
              "      <td>25.580000</td>\n",
              "      <td>24.870001</td>\n",
              "      <td>25.260000</td>\n",
              "      <td>25.200001</td>\n",
              "      <td>25706100</td>\n",
              "      <td>25.181740</td>\n",
              "    </tr>\n",
              "    <tr>\n",
              "      <th>1</th>\n",
              "      <td>2021-01-05</td>\n",
              "      <td>25.180000</td>\n",
              "      <td>24.340000</td>\n",
              "      <td>25.100000</td>\n",
              "      <td>24.760000</td>\n",
              "      <td>25431900</td>\n",
              "      <td>24.742058</td>\n",
              "    </tr>\n",
              "    <tr>\n",
              "      <th>2</th>\n",
              "      <td>2021-01-06</td>\n",
              "      <td>24.660000</td>\n",
              "      <td>23.420000</td>\n",
              "      <td>24.650000</td>\n",
              "      <td>23.459999</td>\n",
              "      <td>51799000</td>\n",
              "      <td>23.442999</td>\n",
              "    </tr>\n",
              "    <tr>\n",
              "      <th>3</th>\n",
              "      <td>2021-01-07</td>\n",
              "      <td>23.850000</td>\n",
              "      <td>22.950001</td>\n",
              "      <td>23.639999</td>\n",
              "      <td>23.160000</td>\n",
              "      <td>42146600</td>\n",
              "      <td>23.143217</td>\n",
              "    </tr>\n",
              "    <tr>\n",
              "      <th>4</th>\n",
              "      <td>2021-01-08</td>\n",
              "      <td>24.299999</td>\n",
              "      <td>23.020000</td>\n",
              "      <td>23.190001</td>\n",
              "      <td>23.840000</td>\n",
              "      <td>43988100</td>\n",
              "      <td>23.822723</td>\n",
              "    </tr>\n",
              "    <tr>\n",
              "      <th>...</th>\n",
              "      <td>...</td>\n",
              "      <td>...</td>\n",
              "      <td>...</td>\n",
              "      <td>...</td>\n",
              "      <td>...</td>\n",
              "      <td>...</td>\n",
              "      <td>...</td>\n",
              "    </tr>\n",
              "    <tr>\n",
              "      <th>242</th>\n",
              "      <td>2021-12-23</td>\n",
              "      <td>6.340000</td>\n",
              "      <td>5.990000</td>\n",
              "      <td>6.220000</td>\n",
              "      <td>6.200000</td>\n",
              "      <td>97106100</td>\n",
              "      <td>6.200000</td>\n",
              "    </tr>\n",
              "    <tr>\n",
              "      <th>243</th>\n",
              "      <td>2021-12-27</td>\n",
              "      <td>6.780000</td>\n",
              "      <td>6.230000</td>\n",
              "      <td>6.230000</td>\n",
              "      <td>6.780000</td>\n",
              "      <td>124279800</td>\n",
              "      <td>6.780000</td>\n",
              "    </tr>\n",
              "    <tr>\n",
              "      <th>244</th>\n",
              "      <td>2021-12-28</td>\n",
              "      <td>6.960000</td>\n",
              "      <td>6.640000</td>\n",
              "      <td>6.790000</td>\n",
              "      <td>6.830000</td>\n",
              "      <td>165573900</td>\n",
              "      <td>6.830000</td>\n",
              "    </tr>\n",
              "    <tr>\n",
              "      <th>245</th>\n",
              "      <td>2021-12-29</td>\n",
              "      <td>6.900000</td>\n",
              "      <td>6.700000</td>\n",
              "      <td>6.840000</td>\n",
              "      <td>6.760000</td>\n",
              "      <td>79247400</td>\n",
              "      <td>6.760000</td>\n",
              "    </tr>\n",
              "    <tr>\n",
              "      <th>246</th>\n",
              "      <td>2021-12-30</td>\n",
              "      <td>7.410000</td>\n",
              "      <td>6.770000</td>\n",
              "      <td>6.800000</td>\n",
              "      <td>7.220000</td>\n",
              "      <td>180329400</td>\n",
              "      <td>7.220000</td>\n",
              "    </tr>\n",
              "  </tbody>\n",
              "</table>\n",
              "<p>247 rows × 7 columns</p>\n",
              "</div>\n",
              "      <button class=\"colab-df-convert\" onclick=\"convertToInteractive('df-eae25609-74e6-4910-9117-5ee524355e3e')\"\n",
              "              title=\"Convert this dataframe to an interactive table.\"\n",
              "              style=\"display:none;\">\n",
              "        \n",
              "  <svg xmlns=\"http://www.w3.org/2000/svg\" height=\"24px\"viewBox=\"0 0 24 24\"\n",
              "       width=\"24px\">\n",
              "    <path d=\"M0 0h24v24H0V0z\" fill=\"none\"/>\n",
              "    <path d=\"M18.56 5.44l.94 2.06.94-2.06 2.06-.94-2.06-.94-.94-2.06-.94 2.06-2.06.94zm-11 1L8.5 8.5l.94-2.06 2.06-.94-2.06-.94L8.5 2.5l-.94 2.06-2.06.94zm10 10l.94 2.06.94-2.06 2.06-.94-2.06-.94-.94-2.06-.94 2.06-2.06.94z\"/><path d=\"M17.41 7.96l-1.37-1.37c-.4-.4-.92-.59-1.43-.59-.52 0-1.04.2-1.43.59L10.3 9.45l-7.72 7.72c-.78.78-.78 2.05 0 2.83L4 21.41c.39.39.9.59 1.41.59.51 0 1.02-.2 1.41-.59l7.78-7.78 2.81-2.81c.8-.78.8-2.07 0-2.86zM5.41 20L4 18.59l7.72-7.72 1.47 1.35L5.41 20z\"/>\n",
              "  </svg>\n",
              "      </button>\n",
              "      \n",
              "  <style>\n",
              "    .colab-df-container {\n",
              "      display:flex;\n",
              "      flex-wrap:wrap;\n",
              "      gap: 12px;\n",
              "    }\n",
              "\n",
              "    .colab-df-convert {\n",
              "      background-color: #E8F0FE;\n",
              "      border: none;\n",
              "      border-radius: 50%;\n",
              "      cursor: pointer;\n",
              "      display: none;\n",
              "      fill: #1967D2;\n",
              "      height: 32px;\n",
              "      padding: 0 0 0 0;\n",
              "      width: 32px;\n",
              "    }\n",
              "\n",
              "    .colab-df-convert:hover {\n",
              "      background-color: #E2EBFA;\n",
              "      box-shadow: 0px 1px 2px rgba(60, 64, 67, 0.3), 0px 1px 3px 1px rgba(60, 64, 67, 0.15);\n",
              "      fill: #174EA6;\n",
              "    }\n",
              "\n",
              "    [theme=dark] .colab-df-convert {\n",
              "      background-color: #3B4455;\n",
              "      fill: #D2E3FC;\n",
              "    }\n",
              "\n",
              "    [theme=dark] .colab-df-convert:hover {\n",
              "      background-color: #434B5C;\n",
              "      box-shadow: 0px 1px 3px 1px rgba(0, 0, 0, 0.15);\n",
              "      filter: drop-shadow(0px 1px 2px rgba(0, 0, 0, 0.3));\n",
              "      fill: #FFFFFF;\n",
              "    }\n",
              "  </style>\n",
              "\n",
              "      <script>\n",
              "        const buttonEl =\n",
              "          document.querySelector('#df-eae25609-74e6-4910-9117-5ee524355e3e button.colab-df-convert');\n",
              "        buttonEl.style.display =\n",
              "          google.colab.kernel.accessAllowed ? 'block' : 'none';\n",
              "\n",
              "        async function convertToInteractive(key) {\n",
              "          const element = document.querySelector('#df-eae25609-74e6-4910-9117-5ee524355e3e');\n",
              "          const dataTable =\n",
              "            await google.colab.kernel.invokeFunction('convertToInteractive',\n",
              "                                                     [key], {});\n",
              "          if (!dataTable) return;\n",
              "\n",
              "          const docLinkHtml = 'Like what you see? Visit the ' +\n",
              "            '<a target=\"_blank\" href=https://colab.research.google.com/notebooks/data_table.ipynb>data table notebook</a>'\n",
              "            + ' to learn more about interactive tables.';\n",
              "          element.innerHTML = '';\n",
              "          dataTable['output_type'] = 'display_data';\n",
              "          await google.colab.output.renderOutput(dataTable, element);\n",
              "          const docLink = document.createElement('div');\n",
              "          docLink.innerHTML = docLinkHtml;\n",
              "          element.appendChild(docLink);\n",
              "        }\n",
              "      </script>\n",
              "    </div>\n",
              "  </div>\n",
              "  "
            ]
          },
          "metadata": {},
          "execution_count": 38
        }
      ]
    },
    {
      "cell_type": "code",
      "source": [
        "df.info()"
      ],
      "metadata": {
        "colab": {
          "base_uri": "https://localhost:8080/"
        },
        "id": "j1l54IJluN-x",
        "outputId": "9e72c391-1de1-4b27-a927-b93ce95ad179"
      },
      "execution_count": 39,
      "outputs": [
        {
          "output_type": "stream",
          "name": "stdout",
          "text": [
            "<class 'pandas.core.frame.DataFrame'>\n",
            "RangeIndex: 247 entries, 0 to 246\n",
            "Data columns (total 7 columns):\n",
            " #   Column      Non-Null Count  Dtype         \n",
            "---  ------      --------------  -----         \n",
            " 0   Data        247 non-null    datetime64[ns]\n",
            " 1   Maior       247 non-null    float64       \n",
            " 2   Menor       247 non-null    float64       \n",
            " 3   Abertura    247 non-null    float64       \n",
            " 4   Fechamento  247 non-null    float64       \n",
            " 5   Volume      247 non-null    int64         \n",
            " 6   Adj Close   247 non-null    float64       \n",
            "dtypes: datetime64[ns](1), float64(5), int64(1)\n",
            "memory usage: 13.6 KB\n"
          ]
        }
      ]
    },
    {
      "cell_type": "markdown",
      "source": [
        "**Tranformando o datatime em string:**"
      ],
      "metadata": {
        "id": "7uMjzIk1vKxF"
      }
    },
    {
      "cell_type": "code",
      "source": [
        "from datetime import datetime\n",
        "\n",
        "df['Data'] = (datetime.now().strftime('%d-%m-%Y'))"
      ],
      "metadata": {
        "id": "mYWy0WPRyd3T"
      },
      "execution_count": 40,
      "outputs": []
    },
    {
      "cell_type": "code",
      "source": [
        "df.info()"
      ],
      "metadata": {
        "colab": {
          "base_uri": "https://localhost:8080/"
        },
        "id": "TxeP8iMcuYkj",
        "outputId": "4ba37f1a-339b-4abd-d767-ab572da6e605"
      },
      "execution_count": 45,
      "outputs": [
        {
          "output_type": "stream",
          "name": "stdout",
          "text": [
            "<class 'pandas.core.frame.DataFrame'>\n",
            "RangeIndex: 247 entries, 0 to 246\n",
            "Data columns (total 7 columns):\n",
            " #   Column      Non-Null Count  Dtype  \n",
            "---  ------      --------------  -----  \n",
            " 0   Data        247 non-null    object \n",
            " 1   Maior       247 non-null    float64\n",
            " 2   Menor       247 non-null    float64\n",
            " 3   Abertura    247 non-null    float64\n",
            " 4   Fechamento  247 non-null    float64\n",
            " 5   Volume      247 non-null    int64  \n",
            " 6   Adj Close   247 non-null    float64\n",
            "dtypes: float64(5), int64(1), object(1)\n",
            "memory usage: 13.6+ KB\n"
          ]
        }
      ]
    },
    {
      "cell_type": "code",
      "source": [
        "X_train = df.iloc[:,4:5].values"
      ],
      "metadata": {
        "id": "titxX--7s3X4"
      },
      "execution_count": 44,
      "outputs": []
    },
    {
      "cell_type": "code",
      "source": [
        "sc = MinMaxScaler()\n",
        "X_train_sc = sc.fit_transform(X_train)"
      ],
      "metadata": {
        "id": "uBm10XI_tI_Z"
      },
      "execution_count": 46,
      "outputs": []
    },
    {
      "cell_type": "code",
      "source": [
        "X_train_lista = []\n",
        "y_train_lista = []\n",
        "timestamp = 45\n",
        "lenght = len(X_train)\n",
        "for i in range(timestamp, lenght):\n",
        "  X_train_lista.append(X_train_sc[i-timestamp:i,0])\n",
        "  y_train_lista.append(X_train_sc[i,0])\n",
        "\n",
        "X_train_lista = np.array(X_train_lista)\n",
        "y_train_lista = np.array(y_train_lista)"
      ],
      "metadata": {
        "id": "fJh8efiitWdx"
      },
      "execution_count": 47,
      "outputs": []
    },
    {
      "cell_type": "code",
      "source": [
        "print(X_train_lista[0])\n",
        "print(\"\\n\")\n",
        "print(y_train_lista[0])"
      ],
      "metadata": {
        "colab": {
          "base_uri": "https://localhost:8080/"
        },
        "id": "hWCpb3T2wIQx",
        "outputId": "d4dd7b26-715f-4a03-92f9-e3341d690f6d"
      },
      "execution_count": 48,
      "outputs": [
        {
          "output_type": "stream",
          "name": "stdout",
          "text": [
            "[0.94926834 0.9278049  0.86439021 0.8497561  0.88292685 0.86585366\n",
            " 0.90048785 0.89170735 0.87756096 0.88878045 0.91268298 0.89463415\n",
            " 0.96000001 0.96341463 0.98780488 0.97609757 0.97804884 0.99756101\n",
            " 0.95268296 0.93609759 0.95414632 0.9712195  0.95463413 0.98097564\n",
            " 0.99609756 1.         0.95414632 0.9712195  0.98390244 0.96390245\n",
            " 0.94146347 0.9365854  0.90292684 0.93268297 0.9219512  0.89317071\n",
            " 0.89951222 0.91756095 0.90390247 0.94536591 0.96097565 0.94585363\n",
            " 0.8468293  0.86097559 0.93463414]\n",
            "\n",
            "\n",
            "0.9297560715093849\n"
          ]
        }
      ]
    },
    {
      "cell_type": "code",
      "source": [
        "X_train_lista = np.reshape(X_train_lista, (X_train_lista.shape[0], X_train_lista.shape[1], 1))\n",
        "X_train_lista.shape"
      ],
      "metadata": {
        "colab": {
          "base_uri": "https://localhost:8080/"
        },
        "id": "xAN0x_5LwKiY",
        "outputId": "600176cc-13a9-4310-85bc-ae7c6aa7096f"
      },
      "execution_count": 50,
      "outputs": [
        {
          "output_type": "execute_result",
          "data": {
            "text/plain": [
              "(202, 45, 1)"
            ]
          },
          "metadata": {},
          "execution_count": 50
        }
      ]
    },
    {
      "cell_type": "code",
      "source": [
        "model = Sequential()\n",
        "model.add(LSTM(units=120, return_sequences=True, input_shape = (X_train_lista.shape[1], 1)))\n",
        "model.add(Dropout(0.2))\n",
        "model.add(LSTM(units=120, return_sequences=True))\n",
        "model.add(Dropout(0.2))\n",
        "model.add(LSTM(units=120, return_sequences=True))\n",
        "model.add(Dropout(0.2))\n",
        "model.add(LSTM(units=120, return_sequences=False))\n",
        "model.add(Dropout(0.2))\n",
        "model.add(Dense(units=1))\n",
        "model.compile(loss=\"mean_squared_error\", optimizer=\"adam\")\n",
        "model.fit(X_train_lista, y_train_lista, epochs=100, batch_size=30, verbose=2)"
      ],
      "metadata": {
        "id": "Xh5SxRlqzGQo"
      },
      "execution_count": null,
      "outputs": []
    },
    {
      "cell_type": "code",
      "source": [
        "test_set = df.loc[:,df.columns == \"Fechamento\"]"
      ],
      "metadata": {
        "id": "14KGQPDCzbiK"
      },
      "execution_count": 55,
      "outputs": []
    },
    {
      "cell_type": "code",
      "source": [
        "y_test = test_set.iloc[timestamp:,0:].values"
      ],
      "metadata": {
        "id": "HNmt_7ck0mlw"
      },
      "execution_count": 56,
      "outputs": []
    },
    {
      "cell_type": "code",
      "source": [
        "closing_price = test_set.iloc[:,0:].values\n",
        "closing_price_scaled = sc.transform(closing_price)"
      ],
      "metadata": {
        "id": "yswc-Gij0qTw"
      },
      "execution_count": 57,
      "outputs": []
    },
    {
      "cell_type": "code",
      "source": [
        "X_test = []\n",
        "lenght = len(test_set)\n",
        "\n",
        "for i in range(timestamp, lenght):\n",
        "  X_test.append(closing_price_scaled[i-timestamp:i,0])\n",
        "\n",
        "X_test = np.array(X_test)\n",
        "X_test.shape"
      ],
      "metadata": {
        "colab": {
          "base_uri": "https://localhost:8080/"
        },
        "id": "tMWOLps10t1A",
        "outputId": "668fa20a-eb74-473c-9245-11ba30dff32a"
      },
      "execution_count": 58,
      "outputs": [
        {
          "output_type": "execute_result",
          "data": {
            "text/plain": [
              "(202, 45)"
            ]
          },
          "metadata": {},
          "execution_count": 58
        }
      ]
    },
    {
      "cell_type": "code",
      "source": [
        "X_test = np.reshape(X_test, (X_test.shape[0], X_test.shape[1],1))\n",
        "X_test.shape"
      ],
      "metadata": {
        "colab": {
          "base_uri": "https://localhost:8080/"
        },
        "id": "58ZImbue10LR",
        "outputId": "cf99c20c-90b4-4f3c-fc8d-d88d5866afee"
      },
      "execution_count": 59,
      "outputs": [
        {
          "output_type": "execute_result",
          "data": {
            "text/plain": [
              "(202, 45, 1)"
            ]
          },
          "metadata": {},
          "execution_count": 59
        }
      ]
    },
    {
      "cell_type": "code",
      "source": [
        "y_pred = model.predict(X_test)\n",
        "predicted_price = sc.inverse_transform(y_pred)"
      ],
      "metadata": {
        "id": "ltmP8Bcy13bx"
      },
      "execution_count": 60,
      "outputs": []
    },
    {
      "cell_type": "code",
      "source": [
        "plt.figure(figsize=(16,8))\n",
        "plt.plot(y_test, color=\"blue\", label=\"Preço Atual das Ações\")\n",
        "plt.plot(predicted_price, color=\"red\", label=\"Preço Previsto das Ações\")\n",
        "plt.title(\"Previsão de Preço de Ações\")\n",
        "plt.xlabel(\"Tempo\")\n",
        "plt.ylabel(\"Preço das Ações\")\n",
        "plt.legend()"
      ],
      "metadata": {
        "colab": {
          "base_uri": "https://localhost:8080/",
          "height": 530
        },
        "id": "cvaoR294170h",
        "outputId": "0713d473-4e67-4953-f3bc-1f7b1667a3c2"
      },
      "execution_count": 61,
      "outputs": [
        {
          "output_type": "execute_result",
          "data": {
            "text/plain": [
              "<matplotlib.legend.Legend at 0x7f06aff97c50>"
            ]
          },
          "metadata": {},
          "execution_count": 61
        },
        {
          "output_type": "display_data",
          "data": {
            "text/plain": [
              "<Figure size 1152x576 with 1 Axes>"
            ],
            "image/png": "[encoded data removed]"
          },
          "metadata": {
            "needs_background": "light"
          }
        }
      ]
    }
  ]
}